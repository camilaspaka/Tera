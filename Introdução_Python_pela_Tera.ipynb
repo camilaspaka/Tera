{
  "nbformat": 4,
  "nbformat_minor": 0,
  "metadata": {
    "colab": {
      "provenance": [],
      "authorship_tag": "ABX9TyNtT+yNjAtto872ZYs8ueh7",
      "include_colab_link": true
    },
    "kernelspec": {
      "name": "python3",
      "display_name": "Python 3"
    },
    "language_info": {
      "name": "python"
    }
  },
  "cells": [
    {
      "cell_type": "markdown",
      "metadata": {
        "id": "view-in-github",
        "colab_type": "text"
      },
      "source": [
        "<a href=\"https://colab.research.google.com/github/camilaspaka/Tera/blob/main/Introdu%C3%A7%C3%A3o_Python_pela_Tera.ipynb\" target=\"_parent\"><img src=\"https://colab.research.google.com/assets/colab-badge.svg\" alt=\"Open In Colab\"/></a>"
      ]
    },
    {
      "cell_type": "code",
      "execution_count": null,
      "metadata": {
        "colab": {
          "base_uri": "https://localhost:8080/"
        },
        "id": "CxB1zuECwTI6",
        "outputId": "601814cd-0a85-4552-c5b7-667e76146b07"
      },
      "outputs": [
        {
          "output_type": "stream",
          "name": "stdout",
          "text": [
            "Olá Mundo\n"
          ]
        }
      ],
      "source": [
        "print(\"Olá Mundo\")"
      ]
    },
    {
      "cell_type": "code",
      "source": [
        "resposta = 50"
      ],
      "metadata": {
        "id": "JpfLmrZPwm7O"
      },
      "execution_count": null,
      "outputs": []
    },
    {
      "cell_type": "code",
      "source": [
        "resposta - 10"
      ],
      "metadata": {
        "colab": {
          "base_uri": "https://localhost:8080/"
        },
        "id": "lxL0qK1czKE8",
        "outputId": "c49288c9-31cf-4d04-aa02-fd52b042ba74"
      },
      "execution_count": null,
      "outputs": [
        {
          "output_type": "execute_result",
          "data": {
            "text/plain": [
              "40"
            ]
          },
          "metadata": {},
          "execution_count": 7
        }
      ]
    },
    {
      "cell_type": "code",
      "source": [
        "type(resposta)"
      ],
      "metadata": {
        "colab": {
          "base_uri": "https://localhost:8080/"
        },
        "id": "ByE0JCzOzQ71",
        "outputId": "9969b7cf-244a-476a-b051-39fc2fc1ea8a"
      },
      "execution_count": null,
      "outputs": [
        {
          "output_type": "execute_result",
          "data": {
            "text/plain": [
              "int"
            ]
          },
          "metadata": {},
          "execution_count": 8
        }
      ]
    },
    {
      "cell_type": "code",
      "source": [
        "sobremesa = \"pudim\"\n",
        "print(f\"Hoje a sobremesa é: {sobremesa}!\")"
      ],
      "metadata": {
        "colab": {
          "base_uri": "https://localhost:8080/"
        },
        "id": "nwAAol27zSM-",
        "outputId": "5cb5e978-df58-4b25-e427-018d938a90f4"
      },
      "execution_count": null,
      "outputs": [
        {
          "output_type": "stream",
          "name": "stdout",
          "text": [
            "Hoje a sobremesa é: pudim!\n"
          ]
        }
      ]
    },
    {
      "cell_type": "code",
      "source": [
        "x = [1, 2, 3,4, 5]"
      ],
      "metadata": {
        "id": "SRqazSgUzbiW"
      },
      "execution_count": null,
      "outputs": []
    },
    {
      "cell_type": "code",
      "source": [
        "x = list((1,2,3,4,5))"
      ],
      "metadata": {
        "id": "jvf1fiCBxLAN"
      },
      "execution_count": null,
      "outputs": []
    },
    {
      "cell_type": "code",
      "source": [
        "x = [None, 1, 'a', 'palavra completa', [None, 'x', 1999], ('nome', 'joao')]"
      ],
      "metadata": {
        "id": "PuvAcUB6xPq_"
      },
      "execution_count": null,
      "outputs": []
    },
    {
      "cell_type": "code",
      "source": [
        "x = ['primeiro', 'segundo', 'terceiro', 'quarto', 'quinto', 'penultimo', 'último' ]"
      ],
      "metadata": {
        "id": "waL-rc8mxdiG"
      },
      "execution_count": null,
      "outputs": []
    },
    {
      "cell_type": "code",
      "source": [
        "x[3]"
      ],
      "metadata": {
        "colab": {
          "base_uri": "https://localhost:8080/",
          "height": 36
        },
        "id": "Bod-wpjLyCTG",
        "outputId": "6789c843-68d4-4553-82a6-331a9e6df45b"
      },
      "execution_count": null,
      "outputs": [
        {
          "output_type": "execute_result",
          "data": {
            "text/plain": [
              "'quarto'"
            ],
            "application/vnd.google.colaboratory.intrinsic+json": {
              "type": "string"
            }
          },
          "metadata": {},
          "execution_count": 6
        }
      ]
    },
    {
      "cell_type": "code",
      "source": [
        "x[0]"
      ],
      "metadata": {
        "colab": {
          "base_uri": "https://localhost:8080/",
          "height": 36
        },
        "id": "XKlcHmdsyGYA",
        "outputId": "85dc2761-e9c7-4554-a510-e28d040257ad"
      },
      "execution_count": null,
      "outputs": [
        {
          "output_type": "execute_result",
          "data": {
            "text/plain": [
              "'primeiro'"
            ],
            "application/vnd.google.colaboratory.intrinsic+json": {
              "type": "string"
            }
          },
          "metadata": {},
          "execution_count": 8
        }
      ]
    },
    {
      "cell_type": "code",
      "source": [
        "x[8]"
      ],
      "metadata": {
        "colab": {
          "base_uri": "https://localhost:8080/",
          "height": 175
        },
        "id": "WMHbOAviyJT4",
        "outputId": "97fdc0ac-a157-4d98-b921-ac43e1194c44"
      },
      "execution_count": null,
      "outputs": [
        {
          "output_type": "error",
          "ename": "IndexError",
          "evalue": "ignored",
          "traceback": [
            "\u001b[0;31m---------------------------------------------------------------------------\u001b[0m",
            "\u001b[0;31mIndexError\u001b[0m                                Traceback (most recent call last)",
            "\u001b[0;32m<ipython-input-10-47020b7a715b>\u001b[0m in \u001b[0;36m<cell line: 1>\u001b[0;34m()\u001b[0m\n\u001b[0;32m----> 1\u001b[0;31m \u001b[0mx\u001b[0m\u001b[0;34m[\u001b[0m\u001b[0;36m8\u001b[0m\u001b[0;34m]\u001b[0m\u001b[0;34m\u001b[0m\u001b[0;34m\u001b[0m\u001b[0m\n\u001b[0m",
            "\u001b[0;31mIndexError\u001b[0m: list index out of range"
          ]
        }
      ]
    },
    {
      "cell_type": "code",
      "source": [
        "#x[ <primeira posição> : <última posição>] é como funciona na pratica um slice"
      ],
      "metadata": {
        "id": "G3Ha7tytyM9A"
      },
      "execution_count": null,
      "outputs": []
    },
    {
      "cell_type": "code",
      "source": [
        "x[2:5]"
      ],
      "metadata": {
        "colab": {
          "base_uri": "https://localhost:8080/"
        },
        "id": "j2nuNJvwyjkC",
        "outputId": "3b23f671-d41d-4c7e-fa39-17a439d16d0b"
      },
      "execution_count": null,
      "outputs": [
        {
          "output_type": "execute_result",
          "data": {
            "text/plain": [
              "['terceiro', 'quarto', 'quinto']"
            ]
          },
          "metadata": {},
          "execution_count": 13
        }
      ]
    },
    {
      "cell_type": "code",
      "source": [
        "x[5: ]"
      ],
      "metadata": {
        "colab": {
          "base_uri": "https://localhost:8080/"
        },
        "id": "-SGqCsDtysB3",
        "outputId": "145d54a6-d1b9-4964-d4d5-f4ab04540cdf"
      },
      "execution_count": null,
      "outputs": [
        {
          "output_type": "execute_result",
          "data": {
            "text/plain": [
              "['penultimo', 'último']"
            ]
          },
          "metadata": {},
          "execution_count": 14
        }
      ]
    },
    {
      "cell_type": "code",
      "source": [
        "len(x)"
      ],
      "metadata": {
        "colab": {
          "base_uri": "https://localhost:8080/"
        },
        "id": "Xd_BxFrdzEZH",
        "outputId": "a5e5f1f1-8701-445b-bb74-4c28490bd019"
      },
      "execution_count": null,
      "outputs": [
        {
          "output_type": "execute_result",
          "data": {
            "text/plain": [
              "7"
            ]
          },
          "metadata": {},
          "execution_count": 15
        }
      ]
    },
    {
      "cell_type": "code",
      "source": [
        "min(['a', 'e', 'f', 'g', 'n', 'o', 'p', 'q'])"
      ],
      "metadata": {
        "colab": {
          "base_uri": "https://localhost:8080/",
          "height": 36
        },
        "id": "KmJ6QN2D786Y",
        "outputId": "7ba8b501-3690-4d90-c70f-72b687967b79"
      },
      "execution_count": null,
      "outputs": [
        {
          "output_type": "execute_result",
          "data": {
            "text/plain": [
              "'a'"
            ],
            "application/vnd.google.colaboratory.intrinsic+json": {
              "type": "string"
            }
          },
          "metadata": {},
          "execution_count": 16
        }
      ]
    },
    {
      "cell_type": "code",
      "source": [
        "max([0, 3, 1, 8, 10, 1, 20])"
      ],
      "metadata": {
        "colab": {
          "base_uri": "https://localhost:8080/"
        },
        "id": "aWYA692e7-4P",
        "outputId": "e7112414-9f14-4e54-fc04-f76bc8819611"
      },
      "execution_count": null,
      "outputs": [
        {
          "output_type": "execute_result",
          "data": {
            "text/plain": [
              "20"
            ]
          },
          "metadata": {},
          "execution_count": 17
        }
      ]
    },
    {
      "cell_type": "code",
      "source": [
        "sum([10, 20, 30])"
      ],
      "metadata": {
        "colab": {
          "base_uri": "https://localhost:8080/"
        },
        "id": "VcAGAMgX8AS-",
        "outputId": "023302d3-84e7-4447-cc74-5246af43a707"
      },
      "execution_count": null,
      "outputs": [
        {
          "output_type": "execute_result",
          "data": {
            "text/plain": [
              "60"
            ]
          },
          "metadata": {},
          "execution_count": 18
        }
      ]
    },
    {
      "cell_type": "code",
      "source": [
        "x = [1, 2, 3]"
      ],
      "metadata": {
        "id": "f5xL_EoZ8Bse"
      },
      "execution_count": null,
      "outputs": []
    },
    {
      "cell_type": "code",
      "source": [
        "x.append(4)"
      ],
      "metadata": {
        "id": "RnUpsHE-8cmH"
      },
      "execution_count": null,
      "outputs": []
    },
    {
      "cell_type": "code",
      "source": [
        "x.insert(0, 0.42)"
      ],
      "metadata": {
        "id": "Zi4qHc2L8ety"
      },
      "execution_count": null,
      "outputs": []
    },
    {
      "cell_type": "code",
      "source": [
        "x = [1,2,2,3,4]"
      ],
      "metadata": {
        "id": "QL2VZPzo8yYf"
      },
      "execution_count": null,
      "outputs": []
    },
    {
      "cell_type": "code",
      "source": [
        "x.remove(2)"
      ],
      "metadata": {
        "id": "EG_0mA9D9Nae"
      },
      "execution_count": null,
      "outputs": []
    },
    {
      "cell_type": "code",
      "source": [
        "imagem = [ [255,0,0], [0,255,0], [0,0,255], [0,0,0] ]"
      ],
      "metadata": {
        "id": "0s5EXVy99O8n"
      },
      "execution_count": null,
      "outputs": []
    },
    {
      "cell_type": "code",
      "source": [
        "x = tuple([1, 2, 3, 4, 5, 6])\n",
        "type(x)"
      ],
      "metadata": {
        "colab": {
          "base_uri": "https://localhost:8080/"
        },
        "id": "_flTt5gJKwgH",
        "outputId": "ca05b13a-c926-4417-dd15-62c1196bc596"
      },
      "execution_count": null,
      "outputs": [
        {
          "output_type": "execute_result",
          "data": {
            "text/plain": [
              "tuple"
            ]
          },
          "metadata": {},
          "execution_count": 28
        }
      ]
    },
    {
      "cell_type": "code",
      "source": [
        "y = (1, 2, 3)\n",
        "type(y)"
      ],
      "metadata": {
        "colab": {
          "base_uri": "https://localhost:8080/"
        },
        "id": "ygFqIqHsLH57",
        "outputId": "9544e65e-4240-4b5d-846e-6388980c9a72"
      },
      "execution_count": null,
      "outputs": [
        {
          "output_type": "execute_result",
          "data": {
            "text/plain": [
              "tuple"
            ]
          },
          "metadata": {},
          "execution_count": 27
        }
      ]
    },
    {
      "cell_type": "code",
      "source": [
        "minha_tupla = (1,2,3)"
      ],
      "metadata": {
        "id": "8wRNcp6lLPzH"
      },
      "execution_count": null,
      "outputs": []
    },
    {
      "cell_type": "code",
      "source": [
        "x,y,z = minha_tupla"
      ],
      "metadata": {
        "id": "FaR6JqBGMTuw"
      },
      "execution_count": null,
      "outputs": []
    },
    {
      "cell_type": "code",
      "source": [
        "entretenimento = {'séries': 'The Crown' }"
      ],
      "metadata": {
        "id": "b7B3FeKXMVD_"
      },
      "execution_count": 2,
      "outputs": []
    },
    {
      "cell_type": "code",
      "source": [
        "my_dict = {\n",
        "           'chave_1' : valor_1,\n",
        "           'chave_2' : valor_2,\n",
        "           'chave_3' : valor_3\n",
        "           }"
      ],
      "metadata": {
        "colab": {
          "base_uri": "https://localhost:8080/",
          "height": 245
        },
        "id": "d05EIDJMqMQH",
        "outputId": "edb37246-2e7f-4d89-8305-6d651781dfde"
      },
      "execution_count": 3,
      "outputs": [
        {
          "output_type": "error",
          "ename": "NameError",
          "evalue": "ignored",
          "traceback": [
            "\u001b[0;31m---------------------------------------------------------------------------\u001b[0m",
            "\u001b[0;31mNameError\u001b[0m                                 Traceback (most recent call last)",
            "\u001b[0;32m<ipython-input-3-ef9fb3c9c91a>\u001b[0m in \u001b[0;36m<cell line: 2>\u001b[0;34m()\u001b[0m\n\u001b[1;32m      1\u001b[0m my_dict = {\n\u001b[0;32m----> 2\u001b[0;31m            \u001b[0;34m'chave_1'\u001b[0m \u001b[0;34m:\u001b[0m \u001b[0mvalor_1\u001b[0m\u001b[0;34m,\u001b[0m\u001b[0;34m\u001b[0m\u001b[0;34m\u001b[0m\u001b[0m\n\u001b[0m\u001b[1;32m      3\u001b[0m            \u001b[0;34m'chave_2'\u001b[0m \u001b[0;34m:\u001b[0m \u001b[0mvalor_2\u001b[0m\u001b[0;34m,\u001b[0m\u001b[0;34m\u001b[0m\u001b[0;34m\u001b[0m\u001b[0m\n\u001b[1;32m      4\u001b[0m            \u001b[0;34m'chave_3'\u001b[0m \u001b[0;34m:\u001b[0m \u001b[0mvalor_3\u001b[0m\u001b[0;34m\u001b[0m\u001b[0;34m\u001b[0m\u001b[0m\n\u001b[1;32m      5\u001b[0m            }\n",
            "\u001b[0;31mNameError\u001b[0m: name 'valor_1' is not defined"
          ]
        }
      ]
    },
    {
      "cell_type": "code",
      "source": [
        "my_dict = {\n",
        "           2: 'dois',\n",
        "           3: 'três',\n",
        "          16: 'dezesseis'\n",
        "          }\n",
        "          #inteiro"
      ],
      "metadata": {
        "id": "Z3j_4YAgqNFX"
      },
      "execution_count": 4,
      "outputs": []
    },
    {
      "cell_type": "code",
      "source": [
        "entretenimento = {\n",
        "                  'filmes': 'Soul',\n",
        "                  'séries': 'The Crown',\n",
        "                  'livros': 'O Pequeno Príncipe'\n",
        "                 }\n",
        "                 #string"
      ],
      "metadata": {
        "id": "NKMf5GYbq1W_"
      },
      "execution_count": 5,
      "outputs": []
    },
    {
      "cell_type": "code",
      "source": [
        "primary_colors = {\n",
        "                  'red': [255, 0, 0],\n",
        "                  'green': [0, 255, 0],\n",
        "                  'blue': [0, 0, 255]\n",
        "                  }\n",
        "                  #listas"
      ],
      "metadata": {
        "id": "jXv_Q7Syq3Dd"
      },
      "execution_count": 6,
      "outputs": []
    },
    {
      "cell_type": "code",
      "source": [
        "entretenimento = {\n",
        "                  'filmes': {\n",
        "                             'action': 'Fast and Furious',\n",
        "                             'romance': 'Love is blind'\n",
        "                             },\n",
        "                  'séries': 'The Crown',\n",
        "                  'livros': 'O Pequeno Príncipe'\n",
        "                  }\n",
        "                  #dicionario\n",
        ""
      ],
      "metadata": {
        "colab": {
          "base_uri": "https://localhost:8080/",
          "height": 140
        },
        "id": "lgAn08OBrmMR",
        "outputId": "7d33190f-a6c2-4c58-e600-29243e5ecd76"
      },
      "execution_count": 8,
      "outputs": [
        {
          "output_type": "error",
          "ename": "IndentationError",
          "evalue": "ignored",
          "traceback": [
            "\u001b[0;36m  File \u001b[0;32m\"<ipython-input-8-7750adfbcdde>\"\u001b[0;36m, line \u001b[0;32m10\u001b[0m\n\u001b[0;31m    print(entretenimento['filmes']['action'])\u001b[0m\n\u001b[0m    ^\u001b[0m\n\u001b[0;31mIndentationError\u001b[0m\u001b[0;31m:\u001b[0m unexpected indent\n"
          ]
        }
      ]
    },
    {
      "cell_type": "code",
      "source": [
        "print(entretenimento['filmes']['action'])"
      ],
      "metadata": {
        "colab": {
          "base_uri": "https://localhost:8080/"
        },
        "id": "MpW26Xjorpx_",
        "outputId": "589e2a6d-dbbd-40cb-b58b-0dd2cd048bf6"
      },
      "execution_count": 9,
      "outputs": [
        {
          "output_type": "stream",
          "name": "stdout",
          "text": [
            "Fast and Furious\n"
          ]
        }
      ]
    },
    {
      "cell_type": "code",
      "source": [
        "entretenimento['filmes']['pixar'] = 'Soul'"
      ],
      "metadata": {
        "id": "vETw71KjrxzO"
      },
      "execution_count": 10,
      "outputs": []
    },
    {
      "cell_type": "code",
      "source": [
        "primary_colors = {\n",
        "                  'red': [255, 0, 0],\n",
        "                  'green': [0, 255, 0],\n",
        "                  'blue': [0, 0, 255]\n",
        "                  }\n",
        "print('green' in primary_colors) # True\n",
        "print('gray' in primary_colors) # False"
      ],
      "metadata": {
        "colab": {
          "base_uri": "https://localhost:8080/"
        },
        "id": "KYJb9C3orzjp",
        "outputId": "ea6f9456-f72d-4a1a-f89e-cc2d8053d436"
      },
      "execution_count": 11,
      "outputs": [
        {
          "output_type": "stream",
          "name": "stdout",
          "text": [
            "True\n",
            "False\n"
          ]
        }
      ]
    },
    {
      "cell_type": "code",
      "source": [
        "entretenimento = {\n",
        "                  'filmes': 'Soul',\n",
        "                  'séries': 'The Crown',\n",
        "                  'livros': 'O Pequeno Príncipe'\n",
        "                  }\n",
        "print(entretenimento['filmes']) # Irá imprimir 'Soul'"
      ],
      "metadata": {
        "colab": {
          "base_uri": "https://localhost:8080/"
        },
        "id": "qVQqAlZjsC-f",
        "outputId": "1dacbeb4-26d0-4cd6-bcf9-32e8b6bffbec"
      },
      "execution_count": 12,
      "outputs": [
        {
          "output_type": "stream",
          "name": "stdout",
          "text": [
            "Soul\n"
          ]
        }
      ]
    },
    {
      "cell_type": "code",
      "source": [
        "entretenimento = {\n",
        "                  'filmes': 'Soul',\n",
        "                  'séries': 'The Crown',\n",
        "                  'livros': 'O Pequeno Príncipe'\n",
        "                  }\n",
        "print(entretenimento.get('filmes')) # Irá imprimir 'Soul'"
      ],
      "metadata": {
        "colab": {
          "base_uri": "https://localhost:8080/"
        },
        "id": "iSkBGSERs34d",
        "outputId": "be67336b-9e5a-439b-a4d8-e70f4915855d"
      },
      "execution_count": 13,
      "outputs": [
        {
          "output_type": "stream",
          "name": "stdout",
          "text": [
            "Soul\n"
          ]
        }
      ]
    },
    {
      "cell_type": "code",
      "source": [
        "entretenimento = {\n",
        "                  'filmes': 'Soul',\n",
        "                  'séries': 'The Crown',\n",
        "                  'livros': 'O Pequeno Príncipe'\n",
        "                  }\n",
        "entretenimento['cantoras'] = 'Taylor Swift'\n",
        "#inserindo novos dados"
      ],
      "metadata": {
        "id": "U_V99z_PtLy3"
      },
      "execution_count": 14,
      "outputs": []
    },
    {
      "cell_type": "code",
      "source": [
        "entretenimento = {\n",
        "                  'filmes': 'Soul',\n",
        "                  'séries': 'The Crown',\n",
        "                  'livros': 'O Pequeno Príncipe',\n",
        "                  'cantoras': 'Taylor Swift'\n",
        "                  }"
      ],
      "metadata": {
        "id": "-5tYcdLmtSfg"
      },
      "execution_count": 15,
      "outputs": []
    },
    {
      "cell_type": "code",
      "source": [
        "entretenimento = {\n",
        "                  'filmes': 'Soul',\n",
        "                  'séries': 'The Crown',\n",
        "                  'livros': 'O Pequeno Príncipe'\n",
        "                  }\n",
        "del entretenimento['livros']"
      ],
      "metadata": {
        "id": "muJeb6dWtXuH"
      },
      "execution_count": 16,
      "outputs": []
    },
    {
      "cell_type": "code",
      "source": [
        "entretenimento = {\n",
        "                  'filmes': 'Soul',\n",
        "                  'séries': 'The Crown'\n",
        "                 }"
      ],
      "metadata": {
        "id": "dZersAw3tm_d"
      },
      "execution_count": 17,
      "outputs": []
    },
    {
      "cell_type": "code",
      "source": [
        "lista_nomes = ['João','Marcela','Felipe','Ana','Augusto','Flávio',\n",
        "               'Henrique','Juliana','Andrei','Bruno','Marina']"
      ],
      "metadata": {
        "id": "ckDOw--StoiF"
      },
      "execution_count": 2,
      "outputs": []
    },
    {
      "cell_type": "code",
      "source": [
        "print('João')\n",
        "print('Marcel')\n",
        "print('Felipe')"
      ],
      "metadata": {
        "colab": {
          "base_uri": "https://localhost:8080/"
        },
        "id": "W1XZaf7DjWP6",
        "outputId": "790fc9c7-37b4-438b-9a57-f962f2571aba"
      },
      "execution_count": 3,
      "outputs": [
        {
          "output_type": "stream",
          "name": "stdout",
          "text": [
            "João\n",
            "Marcel\n",
            "Felipe\n"
          ]
        }
      ]
    },
    {
      "cell_type": "code",
      "source": [
        "for nome in lista_nomes:\n",
        "    print(nome)"
      ],
      "metadata": {
        "colab": {
          "base_uri": "https://localhost:8080/"
        },
        "id": "oHIxbP6mjWq3",
        "outputId": "9809cf7a-6f13-4fe6-8430-dfe5b7e7673f"
      },
      "execution_count": 4,
      "outputs": [
        {
          "output_type": "stream",
          "name": "stdout",
          "text": [
            "João\n",
            "Marcela\n",
            "Felipe\n",
            "Ana\n",
            "Augusto\n",
            "Flávio\n",
            "Henrique\n",
            "Juliana\n",
            "Andrei\n",
            "Bruno\n",
            "Marina\n"
          ]
        }
      ]
    },
    {
      "cell_type": "code",
      "source": [
        "for x in lista_nomes:\n",
        "    print(x)"
      ],
      "metadata": {
        "colab": {
          "base_uri": "https://localhost:8080/"
        },
        "id": "vhLHheZ1jZVf",
        "outputId": "a6e9fd30-9124-47cf-fcbf-54daaa2a9d05"
      },
      "execution_count": 5,
      "outputs": [
        {
          "output_type": "stream",
          "name": "stdout",
          "text": [
            "João\n",
            "Marcela\n",
            "Felipe\n",
            "Ana\n",
            "Augusto\n",
            "Flávio\n",
            "Henrique\n",
            "Juliana\n",
            "Andrei\n",
            "Bruno\n",
            "Marina\n"
          ]
        }
      ]
    },
    {
      "cell_type": "code",
      "source": [
        "contador = 0\n",
        "while contador < 8:\n",
        "    contador = contador + 1\n",
        "    print(\"Já acabou?\")"
      ],
      "metadata": {
        "colab": {
          "base_uri": "https://localhost:8080/"
        },
        "id": "LY0zHdFxjh_u",
        "outputId": "22bf6e07-3a5e-4e56-a2cc-e83114a15264"
      },
      "execution_count": 7,
      "outputs": [
        {
          "output_type": "stream",
          "name": "stdout",
          "text": [
            "Já acabou?\n",
            "Já acabou?\n",
            "Já acabou?\n",
            "Já acabou?\n",
            "Já acabou?\n",
            "Já acabou?\n",
            "Já acabou?\n",
            "Já acabou?\n"
          ]
        }
      ]
    },
    {
      "cell_type": "code",
      "source": [
        "numeros = [0,1,2,3,4,5,6]\n",
        "for numero in numeros:\n",
        "    if numero<=2:\n",
        "        print(\"É menor ou igual a 2\")\n",
        "    elif numero<=4:\n",
        "        print(\"Está entre 2 e 4\")\n",
        "    else:\n",
        "        print(\"É maior que 4\")"
      ],
      "metadata": {
        "colab": {
          "base_uri": "https://localhost:8080/"
        },
        "id": "o-1Jqt2ekbeg",
        "outputId": "98e6aff6-7dd7-4fae-aec6-4a66f78e14f4"
      },
      "execution_count": 8,
      "outputs": [
        {
          "output_type": "stream",
          "name": "stdout",
          "text": [
            "É menor ou igual a 2\n",
            "É menor ou igual a 2\n",
            "É menor ou igual a 2\n",
            "Está entre 2 e 4\n",
            "Está entre 2 e 4\n",
            "É maior que 4\n",
            "É maior que 4\n"
          ]
        }
      ]
    },
    {
      "cell_type": "code",
      "source": [
        "idades = [18, 20, 32, 33, 65]\n",
        "[2021 - x for x in idades]\n",
        "[2003, 2001, 1989, 1988, 1956]"
      ],
      "metadata": {
        "colab": {
          "base_uri": "https://localhost:8080/"
        },
        "id": "1Td9pcDqkhD_",
        "outputId": "eb5c06af-2ed3-4c88-e048-bb886faa2a38"
      },
      "execution_count": 9,
      "outputs": [
        {
          "output_type": "execute_result",
          "data": {
            "text/plain": [
              "[2003, 2001, 1989, 1988, 1956]"
            ]
          },
          "metadata": {},
          "execution_count": 9
        }
      ]
    },
    {
      "cell_type": "code",
      "source": [
        "[2021 - x for x in idades if x > 30 ]"
      ],
      "metadata": {
        "colab": {
          "base_uri": "https://localhost:8080/"
        },
        "id": "27HRXF_7kmvJ",
        "outputId": "5b3dd74c-fd54-4c39-da05-521fe59da135"
      },
      "execution_count": 10,
      "outputs": [
        {
          "output_type": "execute_result",
          "data": {
            "text/plain": [
              "[1989, 1988, 1956]"
            ]
          },
          "metadata": {},
          "execution_count": 10
        }
      ]
    },
    {
      "cell_type": "code",
      "source": [],
      "metadata": {
        "id": "AYD8d9UIkom4"
      },
      "execution_count": null,
      "outputs": []
    }
  ]
}